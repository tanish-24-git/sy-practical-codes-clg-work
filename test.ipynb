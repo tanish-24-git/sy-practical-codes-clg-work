{
 "cells": [
  {
   "cell_type": "code",
   "execution_count": 40,
   "id": "49b738eb",
   "metadata": {},
   "outputs": [],
   "source": [
    "import pandas as pd"
   ]
  },
  {
   "cell_type": "code",
   "execution_count": 41,
   "id": "b80f642b",
   "metadata": {},
   "outputs": [],
   "source": [
    "df=pd.read_csv(r\"C:\\Users\\ASUS\\OneDrive\\Desktop\\everything\\eda + dap\\mobile_sales_data.csv\")"
   ]
  },
  {
   "cell_type": "code",
   "execution_count": 42,
   "id": "be300e95",
   "metadata": {},
   "outputs": [
    {
     "data": {
      "text/html": [
       "<div>\n",
       "<style scoped>\n",
       "    .dataframe tbody tr th:only-of-type {\n",
       "        vertical-align: middle;\n",
       "    }\n",
       "\n",
       "    .dataframe tbody tr th {\n",
       "        vertical-align: top;\n",
       "    }\n",
       "\n",
       "    .dataframe thead th {\n",
       "        text-align: right;\n",
       "    }\n",
       "</style>\n",
       "<table border=\"1\" class=\"dataframe\">\n",
       "  <thead>\n",
       "    <tr style=\"text-align: right;\">\n",
       "      <th></th>\n",
       "      <th>Product</th>\n",
       "      <th>Brand</th>\n",
       "      <th>Product Code</th>\n",
       "      <th>Product Specification</th>\n",
       "      <th>Price</th>\n",
       "      <th>Inward Date</th>\n",
       "      <th>Dispatch Date</th>\n",
       "      <th>Quantity Sold</th>\n",
       "      <th>Customer Name</th>\n",
       "      <th>Customer Location</th>\n",
       "      <th>Region</th>\n",
       "      <th>Core Specification</th>\n",
       "      <th>Processor Specification</th>\n",
       "      <th>RAM</th>\n",
       "      <th>ROM</th>\n",
       "      <th>SSD</th>\n",
       "    </tr>\n",
       "  </thead>\n",
       "  <tbody>\n",
       "    <tr>\n",
       "      <th>0</th>\n",
       "      <td>Mobile Phone</td>\n",
       "      <td>Motorola</td>\n",
       "      <td>88EB4558</td>\n",
       "      <td>Site candidate activity company there bit insi...</td>\n",
       "      <td>78570</td>\n",
       "      <td>2023-08-02</td>\n",
       "      <td>2023-08-03</td>\n",
       "      <td>6</td>\n",
       "      <td>William Hess</td>\n",
       "      <td>South Kelsey</td>\n",
       "      <td>Central</td>\n",
       "      <td>NaN</td>\n",
       "      <td>Snapdragon 7 Gen</td>\n",
       "      <td>12GB</td>\n",
       "      <td>128GB</td>\n",
       "      <td>NaN</td>\n",
       "    </tr>\n",
       "    <tr>\n",
       "      <th>1</th>\n",
       "      <td>Laptop</td>\n",
       "      <td>Oppo</td>\n",
       "      <td>416DFEEB</td>\n",
       "      <td>Beat put care fight affect address his.</td>\n",
       "      <td>44613</td>\n",
       "      <td>2023-10-03</td>\n",
       "      <td>2023-10-06</td>\n",
       "      <td>1</td>\n",
       "      <td>Larry Smith</td>\n",
       "      <td>North Lisa</td>\n",
       "      <td>South</td>\n",
       "      <td>Ryzen 5</td>\n",
       "      <td>Ryzen 5</td>\n",
       "      <td>8GB</td>\n",
       "      <td>512GB</td>\n",
       "      <td>256GB</td>\n",
       "    </tr>\n",
       "    <tr>\n",
       "      <th>2</th>\n",
       "      <td>Mobile Phone</td>\n",
       "      <td>Samsung</td>\n",
       "      <td>9F975B08</td>\n",
       "      <td>Energy special low seven place audience.</td>\n",
       "      <td>159826</td>\n",
       "      <td>2025-03-19</td>\n",
       "      <td>2025-03-20</td>\n",
       "      <td>5</td>\n",
       "      <td>Leah Copeland</td>\n",
       "      <td>South Todd</td>\n",
       "      <td>Central</td>\n",
       "      <td>NaN</td>\n",
       "      <td>MediaTek Dimensity</td>\n",
       "      <td>8GB</td>\n",
       "      <td>256GB</td>\n",
       "      <td>NaN</td>\n",
       "    </tr>\n",
       "    <tr>\n",
       "      <th>3</th>\n",
       "      <td>Laptop</td>\n",
       "      <td>Sony</td>\n",
       "      <td>73D2A7CC</td>\n",
       "      <td>Friend record hard contain minute we role sea ...</td>\n",
       "      <td>20911</td>\n",
       "      <td>2024-02-06</td>\n",
       "      <td>2024-03-27</td>\n",
       "      <td>1</td>\n",
       "      <td>Dan Kirby</td>\n",
       "      <td>New Jordanmouth</td>\n",
       "      <td>South</td>\n",
       "      <td>i7</td>\n",
       "      <td>i7</td>\n",
       "      <td>12GB</td>\n",
       "      <td>64GB</td>\n",
       "      <td>2TB</td>\n",
       "    </tr>\n",
       "    <tr>\n",
       "      <th>4</th>\n",
       "      <td>Laptop</td>\n",
       "      <td>Microsoft</td>\n",
       "      <td>CCE0B80D</td>\n",
       "      <td>Program recently feeling save tree hotel people.</td>\n",
       "      <td>69832</td>\n",
       "      <td>2023-08-10</td>\n",
       "      <td>2023-09-10</td>\n",
       "      <td>4</td>\n",
       "      <td>Dean Martin</td>\n",
       "      <td>Keithton</td>\n",
       "      <td>East</td>\n",
       "      <td>i7</td>\n",
       "      <td>i7</td>\n",
       "      <td>8GB</td>\n",
       "      <td>128GB</td>\n",
       "      <td>2TB</td>\n",
       "    </tr>\n",
       "  </tbody>\n",
       "</table>\n",
       "</div>"
      ],
      "text/plain": [
       "        Product      Brand Product Code  \\\n",
       "0  Mobile Phone   Motorola     88EB4558   \n",
       "1        Laptop       Oppo     416DFEEB   \n",
       "2  Mobile Phone    Samsung     9F975B08   \n",
       "3        Laptop       Sony     73D2A7CC   \n",
       "4        Laptop  Microsoft     CCE0B80D   \n",
       "\n",
       "                               Product Specification   Price Inward Date  \\\n",
       "0  Site candidate activity company there bit insi...   78570  2023-08-02   \n",
       "1            Beat put care fight affect address his.   44613  2023-10-03   \n",
       "2           Energy special low seven place audience.  159826  2025-03-19   \n",
       "3  Friend record hard contain minute we role sea ...   20911  2024-02-06   \n",
       "4   Program recently feeling save tree hotel people.   69832  2023-08-10   \n",
       "\n",
       "  Dispatch Date  Quantity Sold  Customer Name Customer Location   Region  \\\n",
       "0    2023-08-03              6   William Hess      South Kelsey  Central   \n",
       "1    2023-10-06              1    Larry Smith        North Lisa    South   \n",
       "2    2025-03-20              5  Leah Copeland        South Todd  Central   \n",
       "3    2024-03-27              1      Dan Kirby   New Jordanmouth    South   \n",
       "4    2023-09-10              4    Dean Martin          Keithton     East   \n",
       "\n",
       "  Core Specification Processor Specification   RAM    ROM    SSD  \n",
       "0                NaN        Snapdragon 7 Gen  12GB  128GB    NaN  \n",
       "1            Ryzen 5                 Ryzen 5   8GB  512GB  256GB  \n",
       "2                NaN      MediaTek Dimensity   8GB  256GB    NaN  \n",
       "3                 i7                      i7  12GB   64GB    2TB  \n",
       "4                 i7                      i7   8GB  128GB    2TB  "
      ]
     },
     "execution_count": 42,
     "metadata": {},
     "output_type": "execute_result"
    }
   ],
   "source": [
    "df.head()"
   ]
  },
  {
   "cell_type": "code",
   "execution_count": 43,
   "id": "a447c044",
   "metadata": {},
   "outputs": [
    {
     "data": {
      "text/plain": [
       "Product                    object\n",
       "Brand                      object\n",
       "Product Code               object\n",
       "Product Specification      object\n",
       "Price                       int64\n",
       "Inward Date                object\n",
       "Dispatch Date              object\n",
       "Quantity Sold               int64\n",
       "Customer Name              object\n",
       "Customer Location          object\n",
       "Region                     object\n",
       "Core Specification         object\n",
       "Processor Specification    object\n",
       "RAM                        object\n",
       "ROM                        object\n",
       "SSD                        object\n",
       "dtype: object"
      ]
     },
     "execution_count": 43,
     "metadata": {},
     "output_type": "execute_result"
    }
   ],
   "source": [
    "df.dtypes"
   ]
  },
  {
   "cell_type": "code",
   "execution_count": 44,
   "id": "e893c69d",
   "metadata": {},
   "outputs": [
    {
     "data": {
      "text/plain": [
       "Product                        0\n",
       "Brand                          0\n",
       "Product Code                   0\n",
       "Product Specification          0\n",
       "Price                          0\n",
       "Inward Date                    0\n",
       "Dispatch Date                  0\n",
       "Quantity Sold                  0\n",
       "Customer Name                  0\n",
       "Customer Location              0\n",
       "Region                         0\n",
       "Core Specification         24983\n",
       "Processor Specification        0\n",
       "RAM                            0\n",
       "ROM                            0\n",
       "SSD                        24983\n",
       "dtype: int64"
      ]
     },
     "execution_count": 44,
     "metadata": {},
     "output_type": "execute_result"
    }
   ],
   "source": [
    "df.isnull().sum()"
   ]
  },
  {
   "cell_type": "code",
   "execution_count": 45,
   "id": "c918828e",
   "metadata": {},
   "outputs": [],
   "source": [
    "df.dropna()\n",
    "df.dropna(inplace=True)"
   ]
  },
  {
   "cell_type": "code",
   "execution_count": 46,
   "id": "d6881cd0",
   "metadata": {},
   "outputs": [
    {
     "data": {
      "text/plain": [
       "Product                    0\n",
       "Brand                      0\n",
       "Product Code               0\n",
       "Product Specification      0\n",
       "Price                      0\n",
       "Inward Date                0\n",
       "Dispatch Date              0\n",
       "Quantity Sold              0\n",
       "Customer Name              0\n",
       "Customer Location          0\n",
       "Region                     0\n",
       "Core Specification         0\n",
       "Processor Specification    0\n",
       "RAM                        0\n",
       "ROM                        0\n",
       "SSD                        0\n",
       "dtype: int64"
      ]
     },
     "execution_count": 46,
     "metadata": {},
     "output_type": "execute_result"
    }
   ],
   "source": [
    "df.isnull().sum()"
   ]
  },
  {
   "cell_type": "code",
   "execution_count": 47,
   "id": "945cd5ea",
   "metadata": {},
   "outputs": [
    {
     "data": {
      "text/plain": [
       "Index(['Price', 'Quantity Sold'], dtype='object')"
      ]
     },
     "execution_count": 47,
     "metadata": {},
     "output_type": "execute_result"
    }
   ],
   "source": [
    "numerical_columns=df.select_dtypes(include=['int64','float64']).columns\n",
    "numerical_columns\n"
   ]
  },
  {
   "cell_type": "code",
   "execution_count": 48,
   "id": "3b61d242",
   "metadata": {},
   "outputs": [
    {
     "data": {
      "text/plain": [
       "Index(['Product', 'Brand', 'Product Code', 'Product Specification',\n",
       "       'Inward Date', 'Dispatch Date', 'Customer Name', 'Customer Location',\n",
       "       'Region', 'Core Specification', 'Processor Specification', 'RAM', 'ROM',\n",
       "       'SSD'],\n",
       "      dtype='object')"
      ]
     },
     "execution_count": 48,
     "metadata": {},
     "output_type": "execute_result"
    }
   ],
   "source": [
    "catogrical_columns=df.select_dtypes(include=['object']).columns\n",
    "catogrical_columns\n"
   ]
  },
  {
   "cell_type": "code",
   "execution_count": 49,
   "id": "14cb110f",
   "metadata": {},
   "outputs": [],
   "source": [
    "import matplotlib.pyplot as plt\n",
    "import seaborn as sns\n"
   ]
  },
  {
   "cell_type": "code",
   "execution_count": 50,
   "id": "0e60c483",
   "metadata": {},
   "outputs": [
    {
     "data": {
      "image/png": "[encoded data removed]",
      "text/plain": [
       "<Figure size 1000x500 with 1 Axes>"
      ]
     },
     "metadata": {},
     "output_type": "display_data"
    },
    {
     "data": {
      "image/png": "[encoded data removed]",
      "text/plain": [
       "<Figure size 1000x500 with 1 Axes>"
      ]
     },
     "metadata": {},
     "output_type": "display_data"
    }
   ],
   "source": [
    "for col in numerical_columns:\n",
    "    plt.figure(figsize=(10,5))\n",
    "    sns.histplot(df[col],kde=True)\n",
    "    plt.title(f'Distribution of {col}')\n",
    "    plt.show()\n",
    "    "
   ]
  },
  {
   "cell_type": "code",
   "execution_count": 51,
   "id": "caded851",
   "metadata": {},
   "outputs": [],
   "source": [
    "from sklearn.preprocessing import LabelEncoder"
   ]
  },
  {
   "cell_type": "code",
   "execution_count": 52,
   "id": "b01d8c7d",
   "metadata": {},
   "outputs": [],
   "source": [
    "# categorical_columns = ['Product', 'Product Specification', 'Customer Location', 'Region',\n",
    "#                        'Core Specification', 'Processor Specification', 'RAM', 'ROM', 'SSD']\n",
    "\n",
    "# # ---- One-Hot Encoding for Nominal Columns ----\n",
    "# df = pd.get_dummies(df, columns=categorical_columns, drop_first=True)"
   ]
  },
  {
   "cell_type": "code",
   "execution_count": 53,
   "id": "5f1a4f18",
   "metadata": {},
   "outputs": [
    {
     "data": {
      "text/html": [
       "<div>\n",
       "<style scoped>\n",
       "    .dataframe tbody tr th:only-of-type {\n",
       "        vertical-align: middle;\n",
       "    }\n",
       "\n",
       "    .dataframe tbody tr th {\n",
       "        vertical-align: top;\n",
       "    }\n",
       "\n",
       "    .dataframe thead th {\n",
       "        text-align: right;\n",
       "    }\n",
       "</style>\n",
       "<table border=\"1\" class=\"dataframe\">\n",
       "  <thead>\n",
       "    <tr style=\"text-align: right;\">\n",
       "      <th></th>\n",
       "      <th>Product</th>\n",
       "      <th>Brand</th>\n",
       "      <th>Product Code</th>\n",
       "      <th>Product Specification</th>\n",
       "      <th>Price</th>\n",
       "      <th>Inward Date</th>\n",
       "      <th>Dispatch Date</th>\n",
       "      <th>Quantity Sold</th>\n",
       "      <th>Customer Name</th>\n",
       "      <th>Customer Location</th>\n",
       "      <th>Region</th>\n",
       "      <th>Core Specification</th>\n",
       "      <th>Processor Specification</th>\n",
       "      <th>RAM</th>\n",
       "      <th>ROM</th>\n",
       "      <th>SSD</th>\n",
       "    </tr>\n",
       "  </thead>\n",
       "  <tbody>\n",
       "    <tr>\n",
       "      <th>1</th>\n",
       "      <td>Laptop</td>\n",
       "      <td>Oppo</td>\n",
       "      <td>416DFEEB</td>\n",
       "      <td>Beat put care fight affect address his.</td>\n",
       "      <td>44613</td>\n",
       "      <td>2023-10-03</td>\n",
       "      <td>2023-10-06</td>\n",
       "      <td>1</td>\n",
       "      <td>Larry Smith</td>\n",
       "      <td>North Lisa</td>\n",
       "      <td>South</td>\n",
       "      <td>Ryzen 5</td>\n",
       "      <td>Ryzen 5</td>\n",
       "      <td>8GB</td>\n",
       "      <td>512GB</td>\n",
       "      <td>256GB</td>\n",
       "    </tr>\n",
       "    <tr>\n",
       "      <th>3</th>\n",
       "      <td>Laptop</td>\n",
       "      <td>Sony</td>\n",
       "      <td>73D2A7CC</td>\n",
       "      <td>Friend record hard contain minute we role sea ...</td>\n",
       "      <td>20911</td>\n",
       "      <td>2024-02-06</td>\n",
       "      <td>2024-03-27</td>\n",
       "      <td>1</td>\n",
       "      <td>Dan Kirby</td>\n",
       "      <td>New Jordanmouth</td>\n",
       "      <td>South</td>\n",
       "      <td>i7</td>\n",
       "      <td>i7</td>\n",
       "      <td>12GB</td>\n",
       "      <td>64GB</td>\n",
       "      <td>2TB</td>\n",
       "    </tr>\n",
       "    <tr>\n",
       "      <th>4</th>\n",
       "      <td>Laptop</td>\n",
       "      <td>Microsoft</td>\n",
       "      <td>CCE0B80D</td>\n",
       "      <td>Program recently feeling save tree hotel people.</td>\n",
       "      <td>69832</td>\n",
       "      <td>2023-08-10</td>\n",
       "      <td>2023-09-10</td>\n",
       "      <td>4</td>\n",
       "      <td>Dean Martin</td>\n",
       "      <td>Keithton</td>\n",
       "      <td>East</td>\n",
       "      <td>i7</td>\n",
       "      <td>i7</td>\n",
       "      <td>8GB</td>\n",
       "      <td>128GB</td>\n",
       "      <td>2TB</td>\n",
       "    </tr>\n",
       "    <tr>\n",
       "      <th>5</th>\n",
       "      <td>Laptop</td>\n",
       "      <td>HP</td>\n",
       "      <td>10A5C53D</td>\n",
       "      <td>Recognize happen middle clear simple player po...</td>\n",
       "      <td>190474</td>\n",
       "      <td>2025-03-19</td>\n",
       "      <td>2025-05-08</td>\n",
       "      <td>1</td>\n",
       "      <td>Monica Berry</td>\n",
       "      <td>West Heather</td>\n",
       "      <td>Central</td>\n",
       "      <td>i7</td>\n",
       "      <td>i7</td>\n",
       "      <td>16GB</td>\n",
       "      <td>64GB</td>\n",
       "      <td>256GB</td>\n",
       "    </tr>\n",
       "    <tr>\n",
       "      <th>7</th>\n",
       "      <td>Laptop</td>\n",
       "      <td>Apple</td>\n",
       "      <td>D58FF785</td>\n",
       "      <td>Reality sea weight thing newspaper good next g...</td>\n",
       "      <td>15041</td>\n",
       "      <td>2023-10-29</td>\n",
       "      <td>2023-12-20</td>\n",
       "      <td>1</td>\n",
       "      <td>Danielle Smith</td>\n",
       "      <td>North Travis</td>\n",
       "      <td>South</td>\n",
       "      <td>i7</td>\n",
       "      <td>i7</td>\n",
       "      <td>12GB</td>\n",
       "      <td>128GB</td>\n",
       "      <td>256GB</td>\n",
       "    </tr>\n",
       "  </tbody>\n",
       "</table>\n",
       "</div>"
      ],
      "text/plain": [
       "  Product      Brand Product Code  \\\n",
       "1  Laptop       Oppo     416DFEEB   \n",
       "3  Laptop       Sony     73D2A7CC   \n",
       "4  Laptop  Microsoft     CCE0B80D   \n",
       "5  Laptop         HP     10A5C53D   \n",
       "7  Laptop      Apple     D58FF785   \n",
       "\n",
       "                               Product Specification   Price Inward Date  \\\n",
       "1            Beat put care fight affect address his.   44613  2023-10-03   \n",
       "3  Friend record hard contain minute we role sea ...   20911  2024-02-06   \n",
       "4   Program recently feeling save tree hotel people.   69832  2023-08-10   \n",
       "5  Recognize happen middle clear simple player po...  190474  2025-03-19   \n",
       "7  Reality sea weight thing newspaper good next g...   15041  2023-10-29   \n",
       "\n",
       "  Dispatch Date  Quantity Sold   Customer Name Customer Location   Region  \\\n",
       "1    2023-10-06              1     Larry Smith        North Lisa    South   \n",
       "3    2024-03-27              1       Dan Kirby   New Jordanmouth    South   \n",
       "4    2023-09-10              4     Dean Martin          Keithton     East   \n",
       "5    2025-05-08              1    Monica Berry      West Heather  Central   \n",
       "7    2023-12-20              1  Danielle Smith      North Travis    South   \n",
       "\n",
       "  Core Specification Processor Specification   RAM    ROM    SSD  \n",
       "1            Ryzen 5                 Ryzen 5   8GB  512GB  256GB  \n",
       "3                 i7                      i7  12GB   64GB    2TB  \n",
       "4                 i7                      i7   8GB  128GB    2TB  \n",
       "5                 i7                      i7  16GB   64GB  256GB  \n",
       "7                 i7                      i7  12GB  128GB  256GB  "
      ]
     },
     "execution_count": 53,
     "metadata": {},
     "output_type": "execute_result"
    }
   ],
   "source": [
    "df.head()"
   ]
  },
  {
   "cell_type": "code",
   "execution_count": 54,
   "id": "2584b15e",
   "metadata": {},
   "outputs": [
    {
     "data": {
      "text/plain": [
       "Product                    object\n",
       "Brand                      object\n",
       "Product Code               object\n",
       "Product Specification      object\n",
       "Price                       int64\n",
       "Inward Date                object\n",
       "Dispatch Date              object\n",
       "Quantity Sold               int64\n",
       "Customer Name              object\n",
       "Customer Location          object\n",
       "Region                     object\n",
       "Core Specification         object\n",
       "Processor Specification    object\n",
       "RAM                        object\n",
       "ROM                        object\n",
       "SSD                        object\n",
       "dtype: object"
      ]
     },
     "execution_count": 54,
     "metadata": {},
     "output_type": "execute_result"
    }
   ],
   "source": [
    "df.dtypes"
   ]
  },
  {
   "cell_type": "code",
   "execution_count": 55,
   "id": "5c030001",
   "metadata": {},
   "outputs": [],
   "source": [
    "label_encode_columns = ['Product', 'Product Specification', 'Customer Location', 'Region',\n",
    "                       'Core Specification', 'Processor Specification', 'RAM', 'ROM', 'SSD']"
   ]
  },
  {
   "cell_type": "code",
   "execution_count": 56,
   "id": "90720a0b",
   "metadata": {},
   "outputs": [],
   "source": [
    "label_encoder = LabelEncoder()\n",
    "for col in label_encode_columns:\n",
    "    if col in df.columns:\n",
    "        df[col] = label_encoder.fit_transform(df[col])\n"
   ]
  },
  {
   "cell_type": "code",
   "execution_count": 57,
   "id": "17dd16fd",
   "metadata": {},
   "outputs": [
    {
     "data": {
      "text/html": [
       "<div>\n",
       "<style scoped>\n",
       "    .dataframe tbody tr th:only-of-type {\n",
       "        vertical-align: middle;\n",
       "    }\n",
       "\n",
       "    .dataframe tbody tr th {\n",
       "        vertical-align: top;\n",
       "    }\n",
       "\n",
       "    .dataframe thead th {\n",
       "        text-align: right;\n",
       "    }\n",
       "</style>\n",
       "<table border=\"1\" class=\"dataframe\">\n",
       "  <thead>\n",
       "    <tr style=\"text-align: right;\">\n",
       "      <th></th>\n",
       "      <th>Product</th>\n",
       "      <th>Brand</th>\n",
       "      <th>Product Code</th>\n",
       "      <th>Product Specification</th>\n",
       "      <th>Price</th>\n",
       "      <th>Inward Date</th>\n",
       "      <th>Dispatch Date</th>\n",
       "      <th>Quantity Sold</th>\n",
       "      <th>Customer Name</th>\n",
       "      <th>Customer Location</th>\n",
       "      <th>Region</th>\n",
       "      <th>Core Specification</th>\n",
       "      <th>Processor Specification</th>\n",
       "      <th>RAM</th>\n",
       "      <th>ROM</th>\n",
       "      <th>SSD</th>\n",
       "    </tr>\n",
       "  </thead>\n",
       "  <tbody>\n",
       "    <tr>\n",
       "      <th>1</th>\n",
       "      <td>0</td>\n",
       "      <td>Oppo</td>\n",
       "      <td>416DFEEB</td>\n",
       "      <td>2107</td>\n",
       "      <td>44613</td>\n",
       "      <td>2023-10-03</td>\n",
       "      <td>2023-10-06</td>\n",
       "      <td>1</td>\n",
       "      <td>Larry Smith</td>\n",
       "      <td>9432</td>\n",
       "      <td>3</td>\n",
       "      <td>1</td>\n",
       "      <td>1</td>\n",
       "      <td>5</td>\n",
       "      <td>3</td>\n",
       "      <td>1</td>\n",
       "    </tr>\n",
       "    <tr>\n",
       "      <th>3</th>\n",
       "      <td>0</td>\n",
       "      <td>Sony</td>\n",
       "      <td>73D2A7CC</td>\n",
       "      <td>8286</td>\n",
       "      <td>20911</td>\n",
       "      <td>2024-02-06</td>\n",
       "      <td>2024-03-27</td>\n",
       "      <td>1</td>\n",
       "      <td>Dan Kirby</td>\n",
       "      <td>8078</td>\n",
       "      <td>3</td>\n",
       "      <td>6</td>\n",
       "      <td>6</td>\n",
       "      <td>0</td>\n",
       "      <td>4</td>\n",
       "      <td>2</td>\n",
       "    </tr>\n",
       "    <tr>\n",
       "      <th>4</th>\n",
       "      <td>0</td>\n",
       "      <td>Microsoft</td>\n",
       "      <td>CCE0B80D</td>\n",
       "      <td>16590</td>\n",
       "      <td>69832</td>\n",
       "      <td>2023-08-10</td>\n",
       "      <td>2023-09-10</td>\n",
       "      <td>4</td>\n",
       "      <td>Dean Martin</td>\n",
       "      <td>5072</td>\n",
       "      <td>1</td>\n",
       "      <td>6</td>\n",
       "      <td>6</td>\n",
       "      <td>5</td>\n",
       "      <td>0</td>\n",
       "      <td>2</td>\n",
       "    </tr>\n",
       "    <tr>\n",
       "      <th>5</th>\n",
       "      <td>0</td>\n",
       "      <td>HP</td>\n",
       "      <td>10A5C53D</td>\n",
       "      <td>17400</td>\n",
       "      <td>190474</td>\n",
       "      <td>2025-03-19</td>\n",
       "      <td>2025-05-08</td>\n",
       "      <td>1</td>\n",
       "      <td>Monica Berry</td>\n",
       "      <td>14695</td>\n",
       "      <td>0</td>\n",
       "      <td>6</td>\n",
       "      <td>6</td>\n",
       "      <td>1</td>\n",
       "      <td>4</td>\n",
       "      <td>1</td>\n",
       "    </tr>\n",
       "    <tr>\n",
       "      <th>7</th>\n",
       "      <td>0</td>\n",
       "      <td>Apple</td>\n",
       "      <td>D58FF785</td>\n",
       "      <td>17245</td>\n",
       "      <td>15041</td>\n",
       "      <td>2023-10-29</td>\n",
       "      <td>2023-12-20</td>\n",
       "      <td>1</td>\n",
       "      <td>Danielle Smith</td>\n",
       "      <td>9814</td>\n",
       "      <td>3</td>\n",
       "      <td>6</td>\n",
       "      <td>6</td>\n",
       "      <td>0</td>\n",
       "      <td>0</td>\n",
       "      <td>1</td>\n",
       "    </tr>\n",
       "  </tbody>\n",
       "</table>\n",
       "</div>"
      ],
      "text/plain": [
       "   Product      Brand Product Code  Product Specification   Price Inward Date  \\\n",
       "1        0       Oppo     416DFEEB                   2107   44613  2023-10-03   \n",
       "3        0       Sony     73D2A7CC                   8286   20911  2024-02-06   \n",
       "4        0  Microsoft     CCE0B80D                  16590   69832  2023-08-10   \n",
       "5        0         HP     10A5C53D                  17400  190474  2025-03-19   \n",
       "7        0      Apple     D58FF785                  17245   15041  2023-10-29   \n",
       "\n",
       "  Dispatch Date  Quantity Sold   Customer Name  Customer Location  Region  \\\n",
       "1    2023-10-06              1     Larry Smith               9432       3   \n",
       "3    2024-03-27              1       Dan Kirby               8078       3   \n",
       "4    2023-09-10              4     Dean Martin               5072       1   \n",
       "5    2025-05-08              1    Monica Berry              14695       0   \n",
       "7    2023-12-20              1  Danielle Smith               9814       3   \n",
       "\n",
       "   Core Specification  Processor Specification  RAM  ROM  SSD  \n",
       "1                   1                        1    5    3    1  \n",
       "3                   6                        6    0    4    2  \n",
       "4                   6                        6    5    0    2  \n",
       "5                   6                        6    1    4    1  \n",
       "7                   6                        6    0    0    1  "
      ]
     },
     "execution_count": 57,
     "metadata": {},
     "output_type": "execute_result"
    }
   ],
   "source": [
    "df.head()"
   ]
  },
  {
   "cell_type": "code",
   "execution_count": 58,
   "id": "03b019c1",
   "metadata": {},
   "outputs": [
    {
     "data": {
      "text/plain": [
       "Product                     int32\n",
       "Brand                      object\n",
       "Product Code               object\n",
       "Product Specification       int32\n",
       "Price                       int64\n",
       "Inward Date                object\n",
       "Dispatch Date              object\n",
       "Quantity Sold               int64\n",
       "Customer Name              object\n",
       "Customer Location           int32\n",
       "Region                      int32\n",
       "Core Specification          int32\n",
       "Processor Specification     int32\n",
       "RAM                         int32\n",
       "ROM                         int32\n",
       "SSD                         int32\n",
       "dtype: object"
      ]
     },
     "execution_count": 58,
     "metadata": {},
     "output_type": "execute_result"
    }
   ],
   "source": [
    "df.dtypes"
   ]
  },
  {
   "cell_type": "code",
   "execution_count": 1,
   "id": "7d50514f",
   "metadata": {},
   "outputs": [],
   "source": [
    "import pandas as pd"
   ]
  },
  {
   "cell_type": "code",
   "execution_count": 2,
   "id": "7c84b8ee",
   "metadata": {},
   "outputs": [],
   "source": [
    "df=pd.read_csv(r\"C:\\Users\\ASUS\\OneDrive\\Desktop\\everything\\eda + dap\\synthetic_data (13).csv\")"
   ]
  },
  {
   "cell_type": "code",
   "execution_count": 3,
   "id": "3730d4d1",
   "metadata": {},
   "outputs": [
    {
     "data": {
      "text/html": [
       "<div>\n",
       "<style scoped>\n",
       "    .dataframe tbody tr th:only-of-type {\n",
       "        vertical-align: middle;\n",
       "    }\n",
       "\n",
       "    .dataframe tbody tr th {\n",
       "        vertical-align: top;\n",
       "    }\n",
       "\n",
       "    .dataframe thead th {\n",
       "        text-align: right;\n",
       "    }\n",
       "</style>\n",
       "<table border=\"1\" class=\"dataframe\">\n",
       "  <thead>\n",
       "    <tr style=\"text-align: right;\">\n",
       "      <th></th>\n",
       "      <th>Age</th>\n",
       "      <th>Salary</th>\n",
       "      <th>City</th>\n",
       "      <th>Experience</th>\n",
       "      <th>Promotion</th>\n",
       "    </tr>\n",
       "  </thead>\n",
       "  <tbody>\n",
       "    <tr>\n",
       "      <th>0</th>\n",
       "      <td>56.0</td>\n",
       "      <td>55920.0</td>\n",
       "      <td>Pune</td>\n",
       "      <td>7.0</td>\n",
       "      <td>0.0</td>\n",
       "    </tr>\n",
       "    <tr>\n",
       "      <th>1</th>\n",
       "      <td>46.0</td>\n",
       "      <td>87121.0</td>\n",
       "      <td>Chennai</td>\n",
       "      <td>13.0</td>\n",
       "      <td>NaN</td>\n",
       "    </tr>\n",
       "    <tr>\n",
       "      <th>2</th>\n",
       "      <td>32.0</td>\n",
       "      <td>89479.0</td>\n",
       "      <td>Chennai</td>\n",
       "      <td>NaN</td>\n",
       "      <td>1.0</td>\n",
       "    </tr>\n",
       "    <tr>\n",
       "      <th>3</th>\n",
       "      <td>25.0</td>\n",
       "      <td>39457.0</td>\n",
       "      <td>Mumbai</td>\n",
       "      <td>13.0</td>\n",
       "      <td>1.0</td>\n",
       "    </tr>\n",
       "    <tr>\n",
       "      <th>4</th>\n",
       "      <td>38.0</td>\n",
       "      <td>NaN</td>\n",
       "      <td>Pune</td>\n",
       "      <td>4.0</td>\n",
       "      <td>0.0</td>\n",
       "    </tr>\n",
       "  </tbody>\n",
       "</table>\n",
       "</div>"
      ],
      "text/plain": [
       "    Age   Salary     City  Experience  Promotion\n",
       "0  56.0  55920.0     Pune         7.0        0.0\n",
       "1  46.0  87121.0  Chennai        13.0        NaN\n",
       "2  32.0  89479.0  Chennai         NaN        1.0\n",
       "3  25.0  39457.0   Mumbai        13.0        1.0\n",
       "4  38.0      NaN     Pune         4.0        0.0"
      ]
     },
     "execution_count": 3,
     "metadata": {},
     "output_type": "execute_result"
    }
   ],
   "source": [
    "df.head()"
   ]
  },
  {
   "cell_type": "code",
   "execution_count": 4,
   "id": "a7506f44",
   "metadata": {},
   "outputs": [
    {
     "data": {
      "text/plain": [
       "Age           float64\n",
       "Salary        float64\n",
       "City           object\n",
       "Experience    float64\n",
       "Promotion     float64\n",
       "dtype: object"
      ]
     },
     "execution_count": 4,
     "metadata": {},
     "output_type": "execute_result"
    }
   ],
   "source": [
    "df.dtypes\n"
   ]
  },
  {
   "cell_type": "code",
   "execution_count": 5,
   "id": "1680cb4d",
   "metadata": {},
   "outputs": [
    {
     "data": {
      "text/plain": [
       "Age           5\n",
       "Salary        5\n",
       "City          5\n",
       "Experience    5\n",
       "Promotion     5\n",
       "dtype: int64"
      ]
     },
     "execution_count": 5,
     "metadata": {},
     "output_type": "execute_result"
    }
   ],
   "source": [
    "df.isnull().sum()"
   ]
  },
  {
   "cell_type": "code",
   "execution_count": 7,
   "id": "6af9d77e",
   "metadata": {},
   "outputs": [
    {
     "data": {
      "text/plain": [
       "Age           0\n",
       "Salary        0\n",
       "City          0\n",
       "Experience    0\n",
       "Promotion     0\n",
       "dtype: int64"
      ]
     },
     "execution_count": 7,
     "metadata": {},
     "output_type": "execute_result"
    }
   ],
   "source": [
    "df.dropna()\n",
    "df.dropna(inplace=True)\n",
    "df.isnull().sum()"
   ]
  },
  {
   "cell_type": "code",
   "execution_count": 8,
   "id": "a22d0c8e",
   "metadata": {},
   "outputs": [
    {
     "data": {
      "text/plain": [
       "Index(['Age', 'Salary', 'Experience', 'Promotion'], dtype='object')"
      ]
     },
     "execution_count": 8,
     "metadata": {},
     "output_type": "execute_result"
    }
   ],
   "source": [
    "numerical_columns=df.select_dtypes(include=['int64','float64']).columns\n",
    "numerical_columns"
   ]
  },
  {
   "cell_type": "code",
   "execution_count": 11,
   "id": "b0271f8c",
   "metadata": {},
   "outputs": [
    {
     "data": {
      "text/plain": [
       "Index(['City'], dtype='object')"
      ]
     },
     "execution_count": 11,
     "metadata": {},
     "output_type": "execute_result"
    }
   ],
   "source": [
    "catogrical_columns=df.select_dtypes(include=['object']).columns\n",
    "catogrical_columns"
   ]
  },
  {
   "cell_type": "code",
   "execution_count": 12,
   "id": "458e4eee",
   "metadata": {},
   "outputs": [],
   "source": [
    "import matplotlib.pyplot as plt\n",
    "import seaborn as sns"
   ]
  },
  {
   "cell_type": "code",
   "execution_count": null,
   "id": "cd39f21a",
   "metadata": {},
   "outputs": [
    {
     "data": {
      "image/png": "[encoded data removed]",
      "text/plain": [
       "<Figure size 1000x500 with 1 Axes>"
      ]
     },
     "metadata": {},
     "output_type": "display_data"
    },
    {
     "data": {
      "image/png": "[encoded data removed]",
      "text/plain": [
       "<Figure size 1000x500 with 1 Axes>"
      ]
     },
     "metadata": {},
     "output_type": "display_data"
    },
    {
     "data": {
      "image/png": "[encoded data removed]",
      "text/plain": [
       "<Figure size 1000x500 with 1 Axes>"
      ]
     },
     "metadata": {},
     "output_type": "display_data"
    },
    {
     "data": {
      "image/png": "[encoded data removed]",
      "text/plain": [
       "<Figure size 1000x500 with 1 Axes>"
      ]
     },
     "metadata": {},
     "output_type": "display_data"
    }
   ],
   "source": [
    "for col in numerical_columns:\n",
    "    plt.figure(figsize=(10,5))\n",
    "    sns.histplot(df[col],kde=True)\n",
    "    plt.plot()\n",
    "    plt.show()"
   ]
  },
  {
   "cell_type": "code",
   "execution_count": 14,
   "id": "160be6db",
   "metadata": {},
   "outputs": [
    {
     "data": {
      "image/png": "[encoded data removed]",
      "text/plain": [
       "<Figure size 1000x500 with 1 Axes>"
      ]
     },
     "metadata": {},
     "output_type": "display_data"
    }
   ],
   "source": [
    "for col in catogrical_columns:\n",
    "    plt.figure(figsize=(10,5))\n",
    "    sns.histplot(df[col],kde=True)\n",
    "    plt.plot()\n",
    "    plt.show()"
   ]
  },
  {
   "cell_type": "code",
   "execution_count": 18,
   "id": "82ad9965",
   "metadata": {},
   "outputs": [
    {
     "data": {
      "image/png": "[encoded data removed]",
      "text/plain": [
       "<Figure size 1000x500 with 1 Axes>"
      ]
     },
     "metadata": {},
     "output_type": "display_data"
    },
    {
     "data": {
      "image/png": "[encoded data removed]",
      "text/plain": [
       "<Figure size 1000x500 with 1 Axes>"
      ]
     },
     "metadata": {},
     "output_type": "display_data"
    },
    {
     "data": {
      "image/png": "[encoded data removed]",
      "text/plain": [
       "<Figure size 1000x500 with 1 Axes>"
      ]
     },
     "metadata": {},
     "output_type": "display_data"
    },
    {
     "data": {
      "image/png": "[encoded data removed]",
      "text/plain": [
       "<Figure size 1000x500 with 1 Axes>"
      ]
     },
     "metadata": {},
     "output_type": "display_data"
    }
   ],
   "source": [
    "for col in numerical_columns:\n",
    "    plt.figure(figsize=(10,5))\n",
    "    sns.boxplot(df[col],orient='h')\n",
    "    plt.plot()\n",
    "    plt.show()"
   ]
  },
  {
   "cell_type": "code",
   "execution_count": 19,
   "id": "0dbe5299",
   "metadata": {},
   "outputs": [
    {
     "data": {
      "image/png": "[encoded data removed]",
      "text/plain": [
       "<Figure size 1000x500 with 1 Axes>"
      ]
     },
     "metadata": {},
     "output_type": "display_data"
    }
   ],
   "source": [
    "for col in catogrical_columns:\n",
    "    plt.figure(figsize=(10,5))\n",
    "    sns.boxplot(df[col],orient='h')\n",
    "    plt.plot()\n",
    "    plt.show()"
   ]
  },
  {
   "cell_type": "code",
   "execution_count": 20,
   "id": "3690c9ef",
   "metadata": {},
   "outputs": [],
   "source": [
    "from sklearn.preprocessing import LabelEncoder"
   ]
  },
  {
   "cell_type": "code",
   "execution_count": null,
   "id": "41816126",
   "metadata": {},
   "outputs": [],
   "source": [
    "df = pd.get_dummies(df, columns= catogrical_columns, drop_first=True)"
   ]
  },
  {
   "cell_type": "code",
   "execution_count": null,
   "id": "c755b47f",
   "metadata": {},
   "outputs": [],
   "source": [
    "# label_encoders = {} \n",
    "# categorical_cols = df.select_dtypes(include=[\"object\", \"category\"]).columns\n",
    "# for col in categorical_cols:\n",
    "#     label_encoder = LabelEncoder()\n",
    "#     label_encoders[col] = label_encoder \n",
    "#     df[col + \"_encoded\"] = label_encoders[col].fit_transform(df[col])  \n"
   ]
  },
  {
   "cell_type": "code",
   "execution_count": 26,
   "id": "9caf4184",
   "metadata": {},
   "outputs": [
    {
     "data": {
      "text/html": [
       "<div>\n",
       "<style scoped>\n",
       "    .dataframe tbody tr th:only-of-type {\n",
       "        vertical-align: middle;\n",
       "    }\n",
       "\n",
       "    .dataframe tbody tr th {\n",
       "        vertical-align: top;\n",
       "    }\n",
       "\n",
       "    .dataframe thead th {\n",
       "        text-align: right;\n",
       "    }\n",
       "</style>\n",
       "<table border=\"1\" class=\"dataframe\">\n",
       "  <thead>\n",
       "    <tr style=\"text-align: right;\">\n",
       "      <th></th>\n",
       "      <th>Age</th>\n",
       "      <th>Salary</th>\n",
       "      <th>Experience</th>\n",
       "      <th>Promotion</th>\n",
       "      <th>City_Delhi</th>\n",
       "      <th>City_Mumbai</th>\n",
       "      <th>City_Pune</th>\n",
       "    </tr>\n",
       "  </thead>\n",
       "  <tbody>\n",
       "    <tr>\n",
       "      <th>0</th>\n",
       "      <td>56.0</td>\n",
       "      <td>55920.0</td>\n",
       "      <td>7.0</td>\n",
       "      <td>0.0</td>\n",
       "      <td>False</td>\n",
       "      <td>False</td>\n",
       "      <td>True</td>\n",
       "    </tr>\n",
       "    <tr>\n",
       "      <th>3</th>\n",
       "      <td>25.0</td>\n",
       "      <td>39457.0</td>\n",
       "      <td>13.0</td>\n",
       "      <td>1.0</td>\n",
       "      <td>False</td>\n",
       "      <td>True</td>\n",
       "      <td>False</td>\n",
       "    </tr>\n",
       "    <tr>\n",
       "      <th>5</th>\n",
       "      <td>56.0</td>\n",
       "      <td>97189.0</td>\n",
       "      <td>13.0</td>\n",
       "      <td>0.0</td>\n",
       "      <td>False</td>\n",
       "      <td>False</td>\n",
       "      <td>False</td>\n",
       "    </tr>\n",
       "    <tr>\n",
       "      <th>6</th>\n",
       "      <td>36.0</td>\n",
       "      <td>98953.0</td>\n",
       "      <td>7.0</td>\n",
       "      <td>1.0</td>\n",
       "      <td>True</td>\n",
       "      <td>False</td>\n",
       "      <td>False</td>\n",
       "    </tr>\n",
       "    <tr>\n",
       "      <th>8</th>\n",
       "      <td>28.0</td>\n",
       "      <td>60757.0</td>\n",
       "      <td>3.0</td>\n",
       "      <td>1.0</td>\n",
       "      <td>False</td>\n",
       "      <td>True</td>\n",
       "      <td>False</td>\n",
       "    </tr>\n",
       "  </tbody>\n",
       "</table>\n",
       "</div>"
      ],
      "text/plain": [
       "    Age   Salary  Experience  Promotion  City_Delhi  City_Mumbai  City_Pune\n",
       "0  56.0  55920.0         7.0        0.0       False        False       True\n",
       "3  25.0  39457.0        13.0        1.0       False         True      False\n",
       "5  56.0  97189.0        13.0        0.0       False        False      False\n",
       "6  36.0  98953.0         7.0        1.0        True        False      False\n",
       "8  28.0  60757.0         3.0        1.0       False         True      False"
      ]
     },
     "execution_count": 26,
     "metadata": {},
     "output_type": "execute_result"
    }
   ],
   "source": [
    "df.head()"
   ]
  },
  {
   "cell_type": "code",
   "execution_count": 31,
   "id": "65abcf9d",
   "metadata": {},
   "outputs": [],
   "source": [
    "from sklearn.model_selection import train_test_split\n",
    "from sklearn.linear_model import LinearRegression   \n",
    "from sklearn.metrics import mean_squared_error, r2_score\n",
    "from sklearn.compose import ColumnTransformer\n"
   ]
  },
  {
   "cell_type": "code",
   "execution_count": 37,
   "id": "cff7780e",
   "metadata": {},
   "outputs": [],
   "source": [
    "X = df[['Age', 'Salary', 'Experience', 'Promotion', 'City_Delhi', 'City_Mumbai', 'City_Pune']]\n",
    "y = df['Salary']\n"
   ]
  },
  {
   "cell_type": "code",
   "execution_count": 39,
   "id": "582dfb36",
   "metadata": {},
   "outputs": [],
   "source": [
    "preprocessor = ColumnTransformer(\n",
    "\ttransformers=[\n",
    "\t\t('num', 'passthrough', numerical_columns),  \n",
    "\t]\n",
    ")\n",
    "\n",
    "# Apply the preprocessor\n",
    "X_preprocessed = preprocessor.fit_transform(X)\n"
   ]
  },
  {
   "cell_type": "code",
   "execution_count": 40,
   "id": "6c272da0",
   "metadata": {},
   "outputs": [],
   "source": [
    "X_train, X_test, y_train, y_test = train_test_split(X_preprocessed, y, test_size=0.2, random_state=42)\n"
   ]
  },
  {
   "cell_type": "code",
   "execution_count": 41,
   "id": "5689a8d7",
   "metadata": {},
   "outputs": [
    {
     "name": "stdout",
     "output_type": "stream",
     "text": [
      "Linear Regression MSE: 3.28666430054403e-22\n"
     ]
    }
   ],
   "source": [
    "model = LinearRegression()\n",
    "model.fit(X_train, y_train)\n",
    "\n",
    "# Evaluation\n",
    "y_pred = model.predict(X_test)\n",
    "print(f\"Linear Regression MSE: {mean_squared_error(y_test, y_pred)}\")"
   ]
  }
 ],
 "metadata": {
  "kernelspec": {
   "display_name": "Python 3",
   "language": "python",
   "name": "python3"
  },
  "language_info": {
   "codemirror_mode": {
    "name": "ipython",
    "version": 3
   },
   "file_extension": ".py",
   "mimetype": "text/x-python",
   "name": "python",
   "nbconvert_exporter": "python",
   "pygments_lexer": "ipython3",
   "version": "3.12.5"
  }
 },
 "nbformat": 4,
 "nbformat_minor": 5
}
