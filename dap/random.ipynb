{
 "cells": [
  {
   "cell_type": "code",
   "execution_count": 5,
   "id": "4c588078",
   "metadata": {},
   "outputs": [
    {
     "name": "stdout",
     "output_type": "stream",
     "text": [
      "Randomly selected sample:\n",
      "      User_ID  Age  Gender  Sleep_Duration  Stress_Level       Diet_Type  \\\n",
      "27267  U27268   48    Male             6.9           9.0      Vegetarian   \n",
      "57147  U57148   51  Female             4.4           NaN  Non-Vegetarian   \n",
      "44815  U44816   40  Female             6.0           2.0  Non-Vegetarian   \n",
      "41069  U41070   34    Male             6.5          10.0             NaN   \n",
      "10230  U10231   26    Male             8.1           1.0  Non-Vegetarian   \n",
      "36660  U36661   20  Female             8.4           8.0  Non-Vegetarian   \n",
      "76003  U76004   26  Female             9.6           9.0      Vegetarian   \n",
      "70028  U70029   58  Female             6.0          10.0  Non-Vegetarian   \n",
      "\n",
      "       Daily_Screen_Time Exercise_Frequency  Caffeine_Intake  Reaction_Time  \\\n",
      "27267                2.9                Low              223         496.67   \n",
      "57147                4.1             Medium                7         391.11   \n",
      "44815                6.3             Medium              194         221.10   \n",
      "41069                9.4                Low              456         589.83   \n",
      "10230                5.1                Low              368         531.50   \n",
      "36660                9.3                Low              225         341.06   \n",
      "76003                6.6             Medium              128         238.61   \n",
      "70028                2.5                Low              350         575.40   \n",
      "\n",
      "       Memory_Test_Score  Cognitive_Score  AI_Predicted_Score  \n",
      "27267                 51            24.71               29.66  \n",
      "57147                 42            53.32               55.51  \n",
      "44815                 43            84.32               87.69  \n",
      "41069                 86             9.47                7.80  \n",
      "10230                 45            28.11               26.92  \n",
      "36660                 88            64.51               68.24  \n",
      "76003                 51            79.47               75.70  \n",
      "70028                 79            19.85               22.62  \n"
     ]
    }
   ],
   "source": [
    "import pandas as pd\n",
    "\n",
    "\n",
    "df = pd.read_csv(r\"C:\\Users\\ASUS\\OneDrive\\Desktop\\everything\\eda + dap\\Cognitive.csv\")\n",
    "\n",
    "# Input the sample size\n",
    "sample_size = int(input(\"Enter the sample size to extract: \"))\n",
    "\n",
    "# Check if the sample size is valid\n",
    "if sample_size > len(df):\n",
    "    print(\"Sample size cannot be greater than the dataset size!\")\n",
    "else:\n",
    "    # Perform random sampling\n",
    "    random_sample = df.sample(n=sample_size)\n",
    "\n",
    "    # Display the randomly selected sample\n",
    "    print(f\"Randomly selected sample:\\n{random_sample}\")\n"
   ]
  },
  {
   "cell_type": "code",
   "execution_count": 4,
   "id": "36011003",
   "metadata": {},
   "outputs": [
    {
     "name": "stdout",
     "output_type": "stream",
     "text": [
      "First few sample means:\n",
      "    Sample Mean\n",
      "0     50.765814\n",
      "1     49.150286\n",
      "2     48.331946\n",
      "3     50.566155\n",
      "4     50.922988\n",
      "5     49.362086\n",
      "6     49.325281\n",
      "7     51.117494\n",
      "8     53.512063\n",
      "9     49.831638\n",
      "10    49.467249\n",
      "11    52.055028\n",
      "12    51.458773\n",
      "13    51.126666\n",
      "14    49.860374\n",
      "15    50.256683\n",
      "16    49.888885\n",
      "17    50.985076\n",
      "18    50.791287\n",
      "19    51.175820\n",
      "20    48.764947\n",
      "21    51.521828\n",
      "22    51.064996\n",
      "23    51.351810\n",
      "24    48.550927\n",
      "25    49.751718\n",
      "26    51.538635\n",
      "27    48.079505\n",
      "28    46.342629\n",
      "29    49.167578\n"
     ]
    },
    {
     "data": {
      "image/png": "[encoded data removed]",
      "text/plain": [
       "<Figure size 640x480 with 1 Axes>"
      ]
     },
     "metadata": {},
     "output_type": "display_data"
    }
   ],
   "source": [
    "import numpy as np\n",
    "import pandas as pd\n",
    "import matplotlib.pyplot as plt\n",
    "\n",
    "# Input: Define a population (e.g., a large list of random numbers)\n",
    "population_size = 1000\n",
    "population = np.random.normal(loc=50, scale=10, size=population_size)  # Normal distribution\n",
    "\n",
    "# Input: Number of samples to generate\n",
    "num_samples = 30\n",
    "sample_size = 50\n",
    "\n",
    "# Generate multiple samples and calculate their means\n",
    "sample_means = []\n",
    "for _ in range(num_samples):\n",
    "    sample = np.random.choice(population, size=sample_size, replace=False)  # Sample without replacement\n",
    "    sample_means.append(np.mean(sample))\n",
    "\n",
    "# Convert the sample means into a DataFrame for better readability\n",
    "sample_means_df = pd.DataFrame(sample_means, columns=[\"Sample Mean\"])\n",
    "\n",
    "# Display the first few sample means\n",
    "print(\"First few sample means:\")\n",
    "print(sample_means_df.head(30))\n",
    "\n",
    "# Plot the sample means to visualize the distribution\n",
    "plt.hist(sample_means, bins=10, edgecolor='black', alpha=0.7)\n",
    "plt.title('Sampling Distribution of the Sample Mean')\n",
    "plt.xlabel('Sample Mean')\n",
    "plt.ylabel('Frequency')\n",
    "plt.show()\n"
   ]
  },
  {
   "cell_type": "code",
   "execution_count": null,
   "id": "09500906",
   "metadata": {},
   "outputs": [],
   "source": []
  },
  {
   "cell_type": "code",
   "execution_count": null,
   "id": "c78e8e16",
   "metadata": {},
   "outputs": [],
   "source": []
  },
  {
   "cell_type": "code",
   "execution_count": null,
   "id": "eef0071e",
   "metadata": {},
   "outputs": [],
   "source": []
  },
  {
   "cell_type": "code",
   "execution_count": null,
   "id": "3a88ac4c",
   "metadata": {},
   "outputs": [],
   "source": []
  }
 ],
 "metadata": {
  "kernelspec": {
   "display_name": "Python 3",
   "language": "python",
   "name": "python3"
  },
  "language_info": {
   "codemirror_mode": {
    "name": "ipython",
    "version": 3
   },
   "file_extension": ".py",
   "mimetype": "text/x-python",
   "name": "python",
   "nbconvert_exporter": "python",
   "pygments_lexer": "ipython3",
   "version": "3.12.5"
  }
 },
 "nbformat": 4,
 "nbformat_minor": 5
}
