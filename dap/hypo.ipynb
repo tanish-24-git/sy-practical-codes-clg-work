{
 "cells": [
  {
   "cell_type": "code",
   "execution_count": 2,
   "id": "52277bbc",
   "metadata": {},
   "outputs": [],
   "source": [
    "import numpy as np\n",
    "import scipy.stats as stats"
   ]
  },
  {
   "cell_type": "code",
   "execution_count": 10,
   "id": "e449f86d",
   "metadata": {},
   "outputs": [],
   "source": [
    "sample1 = []\n",
    "sample2 = []\n",
    "num_samples = int(input(\"Enter the number of samples: \"))\n",
    "for i in range(num_samples):\n",
    "    sample1.append(float(input(f\"Enter value for sample 1, element {i+1}: \")))\n",
    "    sample2.append(float(input(f\"Enter value for sample 2, element {i+1}: \")))\n",
    "    "
   ]
  },
  {
   "cell_type": "code",
   "execution_count": 7,
   "id": "915ad077",
   "metadata": {},
   "outputs": [],
   "source": [
    "test_type = int (input(\"Enter 1 for t test or 2 for z test: \"))"
   ]
  },
  {
   "cell_type": "code",
   "execution_count": null,
   "id": "8a65988a",
   "metadata": {},
   "outputs": [
    {
     "name": "stdout",
     "output_type": "stream",
     "text": [
      "T-statistic: 0.7427813527082073, P-value: 0.498867354066931\n",
      "Fail to reject the null hypothesis: The means are not significantly different.\n"
     ]
    }
   ],
   "source": [
    "if test_type == 1:\n",
    "    # Perform a t-test\n",
    "    t_stat, p_value = stats.ttest_ind(sample1, sample2)\n",
    "    print(f\"T-statistic: {t_stat}, P-value: {p_value}\") \n",
    "    if p_value < 0.05:\n",
    "        print(\"Reject the null hypothesis: The means are significantly different.\")\n",
    "    else:\n",
    "        print(\"Fail to reject the null hypothesis: The means are not significantly different.\")\n",
    "elif test_type == 2:\n",
    "    mean1,std1 = np.mean(sample1),np. std(sample1, ddof=1)\n",
    "    mean2,std2 = np.mean(sample2),np.std(sample2, ddof=1)\n",
    "    n1,n1= len(sample1),len(sample2)\n",
    "    pooled_se= np.sqrt((std1**2/n1)+(std2**2/n2))\n",
    "    z_stat = (mean1 - mean2) / pooled_se\n",
    "    p_value = 2 * (1 - stats.norm.cdf(abs(z_stat)))\n",
    "    print(f\"Z-statistic: {z_stat}, P-value: {p_value}\")\n",
    "    if p_value < 0.05:\n",
    "        print(\"Reject the null hypothesis: The means are significantly different.\")\n",
    "    else:\n",
    "        print(\"Fail to reject the null hypothesis: The means are not significantly different.\") \n",
    "else:\n",
    "    print(\"Invalid input. Please enter 1 for t test or 2 for z test.\")"
   ]
  },
  {
   "cell_type": "code",
   "execution_count": null,
   "id": "24fc6931",
   "metadata": {},
   "outputs": [],
   "source": []
  },
  {
   "cell_type": "code",
   "execution_count": null,
   "id": "2128fc7d",
   "metadata": {},
   "outputs": [],
   "source": []
  },
  {
   "cell_type": "code",
   "execution_count": null,
   "id": "98458b42",
   "metadata": {},
   "outputs": [],
   "source": []
  }
 ],
 "metadata": {
  "kernelspec": {
   "display_name": "Python 3",
   "language": "python",
   "name": "python3"
  },
  "language_info": {
   "codemirror_mode": {
    "name": "ipython",
    "version": 3
   },
   "file_extension": ".py",
   "mimetype": "text/x-python",
   "name": "python",
   "nbconvert_exporter": "python",
   "pygments_lexer": "ipython3",
   "version": "3.12.5"
  }
 },
 "nbformat": 4,
 "nbformat_minor": 5
}
