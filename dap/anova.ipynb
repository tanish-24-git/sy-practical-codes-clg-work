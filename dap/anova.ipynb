{
 "cells": [
  {
   "cell_type": "code",
   "execution_count": 1,
   "id": "73bb8c2c",
   "metadata": {},
   "outputs": [],
   "source": [
    "import scipy.stats as stats"
   ]
  },
  {
   "cell_type": "code",
   "execution_count": 2,
   "id": "b4aed734",
   "metadata": {},
   "outputs": [],
   "source": [
    "group1=[1.2, 2.3, 2.9, 3.1, 4.0]\n",
    "group2=[1.5, 2.7, 3.0, 3.5, 4.2]    \n",
    "group3=[1.8, 2.5, 3.2, 3.8, 4.5]"
   ]
  },
  {
   "cell_type": "code",
   "execution_count": 3,
   "id": "98abb4e1",
   "metadata": {},
   "outputs": [],
   "source": [
    "f_stat,p_value = stats.f_oneway(group1,group2,group3)\n"
   ]
  },
  {
   "cell_type": "code",
   "execution_count": 4,
   "id": "d538bd4c",
   "metadata": {},
   "outputs": [
    {
     "name": "stdout",
     "output_type": "stream",
     "text": [
      "F-statistic: 0.25148205928237133\n",
      "p-value: 0.7816450237120206\n"
     ]
    }
   ],
   "source": [
    "print(\"F-statistic:\", f_stat)\n",
    "print(\"p-value:\", p_value)"
   ]
  },
  {
   "cell_type": "code",
   "execution_count": 5,
   "id": "dd95f475",
   "metadata": {},
   "outputs": [
    {
     "name": "stdout",
     "output_type": "stream",
     "text": [
      "Fail to reject the null hypothesis: no significant difference between group means.\n"
     ]
    }
   ],
   "source": [
    "alpha = 0.05\n",
    "if p_value < alpha:\n",
    "    print(\"Reject the null hypothesis: at least one group mean is different.\")\n",
    "else:\n",
    "    print(\"Fail to reject the null hypothesis: no significant difference between group means.\")"
   ]
  },
  {
   "cell_type": "code",
   "execution_count": 2,
   "id": "f28768db",
   "metadata": {},
   "outputs": [],
   "source": [
    "import scipy.stats as stats"
   ]
  },
  {
   "cell_type": "code",
   "execution_count": 3,
   "id": "e6e14ca4",
   "metadata": {},
   "outputs": [],
   "source": [
    "group={}\n",
    "num_group = int(input(\"Enter number of groups: \"))\n",
    "for i in range(num_group):\n",
    "    group[i] = []\n",
    "    num_samples = int(input(f\"Enter number of samples for group {i+1}: \"))\n",
    "    for j in range(num_samples):\n",
    "        sample = float(input(f\"Enter sample {j+1} for group {i+1}: \"))\n",
    "        group[i].append(sample)"
   ]
  },
  {
   "cell_type": "code",
   "execution_count": 4,
   "id": "d804fa32",
   "metadata": {},
   "outputs": [],
   "source": [
    "alpha = 0.05"
   ]
  },
  {
   "cell_type": "code",
   "execution_count": 5,
   "id": "5ee7d99c",
   "metadata": {},
   "outputs": [
    {
     "name": "stdout",
     "output_type": "stream",
     "text": [
      "F-statistic: 1.0\n",
      "p-value: 0.421875\n",
      "Fail to reject the null hypothesis: no significant difference between group means.\n"
     ]
    }
   ],
   "source": [
    "if len(group)==2:\n",
    "    group1=group[0]\n",
    "    group2=group[1]\n",
    "    t_stat, p_value = stats.ttest_ind(group1, group2)\n",
    "    print(\"t-statistic:\", t_stat)\n",
    "    print(\"p-value:\", p_value)\n",
    "    if p_value < alpha:\n",
    "        print(\"Reject the null hypothesis: means are different.\")\n",
    "    else:\n",
    "        print(\"Fail to reject the null hypothesis: means are not different.\")\n",
    "else:\n",
    "    f_stat, p_value = stats.f_oneway(*group.values())\n",
    "    print(\"F-statistic:\", f_stat)\n",
    "    print(\"p-value:\", p_value)\n",
    "    if p_value < alpha:\n",
    "        print(\"Reject the null hypothesis: at least one group mean is different.\")\n",
    "    else:\n",
    "        print(\"Fail to reject the null hypothesis: no significant difference between group means.\")"
   ]
  },
  {
   "cell_type": "code",
   "execution_count": 1,
   "id": "d237394e",
   "metadata": {},
   "outputs": [],
   "source": [
    "import matplotlib.pyplot as plt\n",
    "import numpy as np\n",
    "\n",
    "# Set figure size and black background\n",
    "plt.figure(figsize=(10, 10), facecolor='black')\n",
    "\n",
    "# Parameters for flower pattern\n",
    "num_petals = 8\n",
    "num_dots = 1000\n",
    "radius = 4\n",
    "\n",
    "# Generate polar coordinates for petal-like pattern\n",
    "theta = np.random.uniform(0, 2 * np.pi, num_dots)\n",
    "r = radius * np.sin(num_petals * theta / 2) * np.random.uniform(0.8, 1, num_dots)\n",
    "\n",
    "# Convert to Cartesian coordinates\n",
    "x = r * np.cos(theta)\n",
    "y = r * np.sin(theta)\n",
    "\n",
    "# Plot white dots\n",
    "plt.scatter(x, y, c='white', s=10, alpha=0.8)\n",
    "\n",
    "# Remove axes and set black background\n",
    "plt.axis('off')\n",
    "plt.gca().set_facecolor('black')\n",
    "\n",
    "# Save the image\n",
    "plt.savefig('flower_wallpaper.png', bbox_inches='tight', dpi=300)\n",
    "plt.close()"
   ]
  },
  {
   "cell_type": "code",
   "execution_count": 5,
   "id": "14b98600",
   "metadata": {},
   "outputs": [],
   "source": [
    "import matplotlib.pyplot as plt\n",
    "import numpy as np\n",
    "\n",
    "# Set figure size and black background\n",
    "plt.figure(figsize=(12, 12), facecolor='black')\n",
    "\n",
    "# Parameters for flower\n",
    "num_petals = 12  # More petals for detailed structure\n",
    "num_dots_flower = 2000  # High density for texture\n",
    "flower_radius = 3\n",
    "\n",
    "# Generate polar coordinates for flower petals with natural variation\n",
    "theta_flower = np.random.uniform(0, 2 * np.pi, num_dots_flower)\n",
    "r_flower = flower_radius * np.sin(num_petals * theta_flower / 2) * np.random.uniform(0.6, 1.1, num_dots_flower)\n",
    "r_flower *= (1 + 0.1 * np.cos(theta_flower))  # Slight asymmetry for realism\n",
    "x_flower = r_flower * np.cos(theta_flower)\n",
    "y_flower = r_flower * np.sin(theta_flower) + 5  # Position flower above stem\n",
    "\n",
    "# Parameters for stem with slight curve\n",
    "num_dots_stem = 500\n",
    "t_stem = np.linspace(0, 1, num_dots_stem)\n",
    "stem_x = 0.3 * np.sin(4 * t_stem) + np.random.normal(0, 0.15 * (1 - t_stem), num_dots_stem)  # Curved with tapering width\n",
    "stem_y = t_stem * 5  # Stem extends to flower base\n",
    "\n",
    "# Parameters for fire on one petal\n",
    "num_dots_fire = 800\n",
    "# Target one petal (around theta = 0)\n",
    "fire_theta = np.random.normal(0, 0.15, num_dots_fire)  # Narrow angle for one petal\n",
    "fire_r = np.random.uniform(0, flower_radius * 1.3, num_dots_fire)\n",
    "fire_y_offset = np.random.exponential(1.5, num_dots_fire) * (1 + 0.3 * np.abs(fire_theta))  # Flame shape: taller, sparser at tips\n",
    "fire_x = fire_r * np.cos(fire_theta)\n",
    "fire_y = fire_r * np.sin(fire_theta) + 5 + fire_y_offset  # Flames extend upward\n",
    "fire_sizes = 8 + 10 * (1 - fire_y_offset / fire_y_offset.max())  # Larger dots at flame base\n",
    "fire_alpha = 0.6 + 0.3 * (1 - fire_y_offset / fire_y_offset.max())  # Brighter at base\n",
    "\n",
    "# Plot white dots with varied sizes and alpha for depth\n",
    "plt.scatter(x_flower, y_flower, c='white', s=np.random.uniform(10, 20, num_dots_flower), alpha=np.random.uniform(0.7, 0.95, num_dots_flower))\n",
    "plt.scatter(stem_x, stem_y, c='white', s=np.random.uniform(8, 15, num_dots_stem), alpha=np.random.uniform(0.65, 0.9, num_dots_stem))\n",
    "plt.scatter(fire_x, fire_y, c='white', s=fire_sizes, alpha=fire_alpha)\n",
    "\n",
    "# Remove axes and set black background\n",
    "plt.axis('off')\n",
    "plt.gca().set_facecolor('black')\n",
    "\n",
    "# Save the image\n",
    "plt.savefig('realistic_burning_flower_wallpaper.png', bbox_inches='tight', dpi=300)\n",
    "plt.close()"
   ]
  },
  {
   "cell_type": "code",
   "execution_count": 7,
   "id": "2a3557f5",
   "metadata": {},
   "outputs": [],
   "source": [
    "import matplotlib.pyplot as plt\n",
    "import numpy as np\n",
    "\n",
    "# Set figure size and black background\n",
    "plt.figure(figsize=(12, 12), facecolor='black')\n",
    "\n",
    "# Parameters for rose-like flower\n",
    "num_dots_rose = 2500  # High density for layered rose\n",
    "rose_radius = 2.5\n",
    "spiral_factor = 0.1  # Controls spiral tightness\n",
    "\n",
    "# Generate spiral coordinates for rose petals\n",
    "theta_rose = np.random.uniform(0, 8 * np.pi, num_dots_rose)  # Multiple rotations for layering\n",
    "r_rose = rose_radius * np.exp(spiral_factor * theta_rose) * np.random.uniform(0.5, 1, num_dots_rose)\n",
    "r_rose = np.clip(r_rose, 0, rose_radius)  # Cap radius for compact rose\n",
    "x_rose = r_rose * np.cos(theta_rose)\n",
    "y_rose = r_rose * np.sin(theta_rose) + 6  # Position rose above stem\n",
    "\n",
    "# Parameters for stem\n",
    "num_dots_stem = 600\n",
    "t_stem = np.linspace(0, 1, num_dots_stem)\n",
    "stem_x = 0.3 * np.sin(4 * t_stem) + np.random.normal(0, 0.15 * (1 - t_stem), num_dots_stem)  # Curved stem\n",
    "stem_y = t_stem * 6  # Stem extends to rose base\n",
    "\n",
    "# Parameters for leaves (two leaves on stem)\n",
    "num_dots_leaf = 300\n",
    "leaf_positions = [2.5, 4.0]  # Y-positions along stem\n",
    "x_leaves, y_leaves = [], []\n",
    "for leaf_y in leaf_positions:\n",
    "    t_leaf = np.random.uniform(0, 2 * np.pi, num_dots_leaf)\n",
    "    leaf_x = 0.8 * np.cos(t_leaf) * np.random.uniform(0.5, 1, num_dots_leaf)  # Elliptical shape\n",
    "    leaf_y = 0.4 * np.sin(t_leaf) * np.random.uniform(0.5, 1, num_dots_leaf) + leaf_y\n",
    "    leaf_x += np.where(leaf_y < 3, 0.5, -0.5)  # Offset leaves to opposite sides\n",
    "    x_leaves.extend(leaf_x)\n",
    "    y_leaves.extend(leaf_y)\n",
    "\n",
    "# Parameters for fire on one petal\n",
    "num_dots_fire = 800\n",
    "fire_theta = np.random.normal(0, 0.15, num_dots_fire)  # Narrow angle for one petal\n",
    "fire_r = np.random.uniform(0, rose_radius * 1.2, num_dots_fire)\n",
    "fire_y_offset = np.random.exponential(1.5, num_dots_fire) * (1 + 0.3 * np.abs(fire_theta))  # Flame shape\n",
    "fire_x = fire_r * np.cos(fire_theta)\n",
    "fire_y = fire_r * np.sin(fire_theta) + 6 + fire_y_offset  # Flames extend upward\n",
    "fire_sizes = 8 + 12 * (1 - fire_y_offset / fire_y_offset.max())  # Larger dots at flame base\n",
    "fire_alpha = 0.65 + 0.3 * (1 - fire_y_offset / fire_y_offset.max())  # Brighter at base\n",
    "\n",
    "# Plot white dots with varied sizes and alpha for depth\n",
    "plt.scatter(x_rose, y_rose, c='white', s=np.random.uniform(12, 22, num_dots_rose), alpha=np.random.uniform(0.75, 0.95, num_dots_rose))\n",
    "plt.scatter(stem_x, stem_y, c='white', s=np.random.uniform(8, 16, num_dots_stem), alpha=np.random.uniform(0.7, 0.9, num_dots_stem))\n",
    "plt.scatter(x_leaves, y_leaves, c='white', s=np.random.uniform(10, 18, num_dots_leaf * 2), alpha=np.random.uniform(0.7, 0.9, num_dots_leaf * 2))\n",
    "plt.scatter(fire_x, fire_y, c='white', s=fire_sizes, alpha=fire_alpha)\n",
    "\n",
    "# Remove axes and set black background\n",
    "plt.axis('off')\n",
    "plt.gca().set_facecolor('black')\n",
    "\n",
    "# Save the image\n",
    "plt.savefig('realistic_burning_rose_wallpaper.png', bbox_inches='tight', dpi=300)\n",
    "plt.close()"
   ]
  }
 ],
 "metadata": {
  "kernelspec": {
   "display_name": "Python 3",
   "language": "python",
   "name": "python3"
  },
  "language_info": {
   "codemirror_mode": {
    "name": "ipython",
    "version": 3
   },
   "file_extension": ".py",
   "mimetype": "text/x-python",
   "name": "python",
   "nbconvert_exporter": "python",
   "pygments_lexer": "ipython3",
   "version": "3.12.5"
  }
 },
 "nbformat": 4,
 "nbformat_minor": 5
}
