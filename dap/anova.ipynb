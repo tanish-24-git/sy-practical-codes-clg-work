{
 "cells": [
  {
   "cell_type": "code",
   "execution_count": 1,
   "id": "73bb8c2c",
   "metadata": {},
   "outputs": [],
   "source": [
    "import scipy.stats as stats"
   ]
  },
  {
   "cell_type": "code",
   "execution_count": 2,
   "id": "b4aed734",
   "metadata": {},
   "outputs": [],
   "source": [
    "group1=[1.2, 2.3, 2.9, 3.1, 4.0]\n",
    "group2=[1.5, 2.7, 3.0, 3.5, 4.2]    \n",
    "group3=[1.8, 2.5, 3.2, 3.8, 4.5]"
   ]
  },
  {
   "cell_type": "code",
   "execution_count": 3,
   "id": "98abb4e1",
   "metadata": {},
   "outputs": [],
   "source": [
    "f_stat,p_value = stats.f_oneway(group1,group2,group3)\n"
   ]
  },
  {
   "cell_type": "code",
   "execution_count": 4,
   "id": "d538bd4c",
   "metadata": {},
   "outputs": [
    {
     "name": "stdout",
     "output_type": "stream",
     "text": [
      "F-statistic: 0.25148205928237133\n",
      "p-value: 0.7816450237120206\n"
     ]
    }
   ],
   "source": [
    "print(\"F-statistic:\", f_stat)\n",
    "print(\"p-value:\", p_value)"
   ]
  },
  {
   "cell_type": "code",
   "execution_count": 5,
   "id": "dd95f475",
   "metadata": {},
   "outputs": [
    {
     "name": "stdout",
     "output_type": "stream",
     "text": [
      "Fail to reject the null hypothesis: no significant difference between group means.\n"
     ]
    }
   ],
   "source": [
    "alpha = 0.05\n",
    "if p_value < alpha:\n",
    "    print(\"Reject the null hypothesis: at least one group mean is different.\")\n",
    "else:\n",
    "    print(\"Fail to reject the null hypothesis: no significant difference between group means.\")"
   ]
  },
  {
   "cell_type": "code",
   "execution_count": 2,
   "id": "f28768db",
   "metadata": {},
   "outputs": [],
   "source": [
    "import scipy.stats as stats"
   ]
  },
  {
   "cell_type": "code",
   "execution_count": 3,
   "id": "e6e14ca4",
   "metadata": {},
   "outputs": [],
   "source": [
    "group={}\n",
    "num_group = int(input(\"Enter number of groups: \"))\n",
    "for i in range(num_group):\n",
    "    group[i] = []\n",
    "    num_samples = int(input(f\"Enter number of samples for group {i+1}: \"))\n",
    "    for j in range(num_samples):\n",
    "        sample = float(input(f\"Enter sample {j+1} for group {i+1}: \"))\n",
    "        group[i].append(sample)"
   ]
  },
  {
   "cell_type": "code",
   "execution_count": 4,
   "id": "d804fa32",
   "metadata": {},
   "outputs": [],
   "source": [
    "alpha = 0.05"
   ]
  },
  {
   "cell_type": "code",
   "execution_count": 5,
   "id": "5ee7d99c",
   "metadata": {},
   "outputs": [
    {
     "name": "stdout",
     "output_type": "stream",
     "text": [
      "F-statistic: 1.0\n",
      "p-value: 0.421875\n",
      "Fail to reject the null hypothesis: no significant difference between group means.\n"
     ]
    }
   ],
   "source": [
    "if len(group)==2:\n",
    "    group1=group[0]\n",
    "    group2=group[1]\n",
    "    t_stat, p_value = stats.ttest_ind(group1, group2)\n",
    "    print(\"t-statistic:\", t_stat)\n",
    "    print(\"p-value:\", p_value)\n",
    "    if p_value < alpha:\n",
    "        print(\"Reject the null hypothesis: means are different.\")\n",
    "    else:\n",
    "        print(\"Fail to reject the null hypothesis: means are not different.\")\n",
    "else:\n",
    "    f_stat, p_value = stats.f_oneway(*group.values())\n",
    "    print(\"F-statistic:\", f_stat)\n",
    "    print(\"p-value:\", p_value)\n",
    "    if p_value < alpha:\n",
    "        print(\"Reject the null hypothesis: at least one group mean is different.\")\n",
    "    else:\n",
    "        print(\"Fail to reject the null hypothesis: no significant difference between group means.\")"
   ]
  },
  {
   "cell_type": "code",
   "execution_count": null,
   "id": "d237394e",
   "metadata": {},
   "outputs": [],
   "source": []
  }
 ],
 "metadata": {
  "kernelspec": {
   "display_name": "Python 3",
   "language": "python",
   "name": "python3"
  },
  "language_info": {
   "codemirror_mode": {
    "name": "ipython",
    "version": 3
   },
   "file_extension": ".py",
   "mimetype": "text/x-python",
   "name": "python",
   "nbconvert_exporter": "python",
   "pygments_lexer": "ipython3",
   "version": "3.12.5"
  }
 },
 "nbformat": 4,
 "nbformat_minor": 5
}
